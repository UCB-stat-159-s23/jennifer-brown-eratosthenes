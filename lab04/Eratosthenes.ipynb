{
 "cells": [
  {
   "cell_type": "markdown",
   "id": "01fd229a-7839-4564-8e6b-ec928fe51fbb",
   "metadata": {},
   "source": [
    "# Prime numbers and the sieve of Eratosthenes\n",
    "_Author: An enthusiastic scientist, a terrible programmer._\n",
    "\n",
    "The sieve of Eratosthenes is a simple and famous algorithm for factoring prime\n",
    "numbers. I was always fascinated with prime numbers, so I am very excited about new project!"
   ]
  },
  {
   "cell_type": "markdown",
   "id": "b728cbcd-e726-4ff3-a62f-98a7121c79a2",
   "metadata": {},
   "source": [
    "Let's start with a simple implementation of the Sieve or Eratosthenes:"
   ]
  },
  {
   "cell_type": "code",
   "execution_count": 1,
   "id": "cd22e931-baad-4741-852a-61e6185dfb6c",
   "metadata": {},
   "outputs": [],
   "source": [
    "from sieve_tools import sieve"
   ]
  },
  {
   "cell_type": "code",
   "execution_count": 2,
   "id": "e706bd8c-22c8-4190-8144-e004f80d5287",
   "metadata": {},
   "outputs": [
    {
     "data": {
      "text/plain": [
       "[2, 3, 5, 7, 11, 13, 17, 19, 23, 29, 31, 37, 41, 43, 47, 53]"
      ]
     },
     "execution_count": 2,
     "metadata": {},
     "output_type": "execute_result"
    }
   ],
   "source": [
    "sieve.simple_primes(55)\n",
    "sieve.complex_primes(55)"
   ]
  },
  {
   "cell_type": "markdown",
   "id": "bdd29d53-1ccf-44f7-8555-78bb859001c0",
   "metadata": {
    "tags": [],
    "user_expressions": []
   },
   "source": [
    "Now, let's do something a little bit more efficient. This code should give me the same than before, but in less time. "
   ]
  },
  {
   "cell_type": "markdown",
   "id": "840d9c6e-a4f6-4ea8-b28a-00d8c56197cf",
   "metadata": {
    "user_expressions": []
   },
   "source": [
    "## Long Run: proportion of primer numbers\n",
    "\n",
    "Now I am interested in knowing what is the proportion of prime numbers smaller than some `nmax`. This next for loop runs the last implementation of the sieve of Eratosthenes for different numbers. "
   ]
  },
  {
   "cell_type": "code",
   "execution_count": 3,
   "id": "ac5d3c8d-9202-4c31-99c8-58196ec328e0",
   "metadata": {},
   "outputs": [
    {
     "data": {
      "text/plain": [
       "[0.25,\n",
       " 0.23,\n",
       " 0.20666666666666667,\n",
       " 0.195,\n",
       " 0.19,\n",
       " 0.18166666666666667,\n",
       " 0.17857142857142858,\n",
       " 0.17375,\n",
       " 0.1711111111111111,\n",
       " 0.168,\n",
       " 0.16727272727272727,\n",
       " 0.16333333333333333,\n",
       " 0.16230769230769232,\n",
       " 0.15857142857142856,\n",
       " 0.15933333333333333,\n",
       " 0.156875,\n",
       " 0.1564705882352941,\n",
       " 0.15444444444444444,\n",
       " 0.15263157894736842,\n",
       " 0.1515,\n",
       " 0.15095238095238095,\n",
       " 0.14863636363636365,\n",
       " 0.14869565217391303,\n",
       " 0.14875,\n",
       " 0.1468,\n",
       " 0.1453846153846154,\n",
       " 0.14555555555555555,\n",
       " 0.14535714285714285,\n",
       " 0.14448275862068966,\n",
       " 0.14333333333333334,\n",
       " 0.14258064516129032,\n",
       " 0.14125,\n",
       " 0.1403030303030303,\n",
       " 0.14058823529411765,\n",
       " 0.1397142857142857,\n",
       " 0.13972222222222222,\n",
       " 0.13945945945945945,\n",
       " 0.13894736842105262,\n",
       " 0.1382051282051282,\n",
       " 0.1375,\n",
       " 0.1378048780487805,\n",
       " 0.13666666666666666,\n",
       " 0.1372093023255814,\n",
       " 0.13613636363636364,\n",
       " 0.13555555555555557,\n",
       " 0.13521739130434782,\n",
       " 0.13489361702127659,\n",
       " 0.13458333333333333,\n",
       " 0.13346938775510203]"
      ]
     },
     "execution_count": 3,
     "metadata": {},
     "output_type": "execute_result"
    }
   ],
   "source": [
    "sieve.proportion_primes(5000)"
   ]
  },
  {
   "cell_type": "code",
   "execution_count": 4,
   "id": "3114bf6a-93c3-4042-acbb-c047a7812cd7",
   "metadata": {},
   "outputs": [
    {
     "data": {
      "text/plain": [
       "\u001b[0;31mSignature:\u001b[0m \u001b[0msieve\u001b[0m\u001b[0;34m.\u001b[0m\u001b[0msimple_primes\u001b[0m\u001b[0;34m(\u001b[0m\u001b[0mnmax\u001b[0m\u001b[0;34m)\u001b[0m\u001b[0;34m\u001b[0m\u001b[0;34m\u001b[0m\u001b[0m\n",
       "\u001b[0;31mDocstring:\u001b[0m <no docstring>\n",
       "\u001b[0;31mFile:\u001b[0m      ~/lab04/sieve_tools/sieve.py\n",
       "\u001b[0;31mType:\u001b[0m      function"
      ]
     },
     "metadata": {},
     "output_type": "display_data"
    }
   ],
   "source": [
    "#To see documents\n",
    "sieve.simple_primes?"
   ]
  },
  {
   "cell_type": "markdown",
   "id": "b8c287c9-e310-4498-92ce-c59bec68b9fa",
   "metadata": {
    "user_expressions": []
   },
   "source": [
    "OIn theory this should look like $1 / ln(N)$. Let's make the plot in log scale, since it seems more meaninful in this way."
   ]
  },
  {
   "cell_type": "code",
   "execution_count": 5,
   "id": "47c05b78-ba0d-43a3-beb0-215891d9a10c",
   "metadata": {},
   "outputs": [
    {
     "data": {
      "image/png": "[encoded data removed]",
      "text/plain": [
       "<Figure size 640x480 with 1 Axes>"
      ]
     },
     "metadata": {},
     "output_type": "display_data"
    }
   ],
   "source": [
    "from sieve_tools import plots\n",
    "plots.proportion_plot(500)"
   ]
  },
  {
   "cell_type": "markdown",
   "id": "7cda3103-9645-4323-a5eb-7a14f98a60c6",
   "metadata": {
    "user_expressions": []
   },
   "source": [
    "## Performance\n",
    "\n",
    "It will be great to compare the performance of the two algorithms as we increase the window search. \n",
    "\n",
    "Write a function that computes the overall time of a program. I guess something like this should work. The function `time.perf_counter` can be useful here. "
   ]
  },
  {
   "cell_type": "code",
   "execution_count": 5,
   "id": "538b8740-0820-4373-96f7-ddde241e0cd7",
   "metadata": {},
   "outputs": [],
   "source": [
    "import time\n",
    "\n",
    "def time_rng(fun, nrange, verbose=False):\n",
    "    \"\"\"\n",
    "    Time a function over a range of parameters.\n",
    "\n",
    "    Returns the list of run times.\n",
    "\n",
    "    The function should be callable with a single argument: it will be\n",
    "    called with each entry from nrange in turn.\n",
    "\n",
    "    If verbose is true, at each step the value of nrange and time for the\n",
    "    call is printed.\n",
    "    \"\"\"\n",
    "\n",
    "    # BEGIN SOLUTION\n",
    "    \n",
    "    \n",
    "    \n",
    "    \n",
    "\n",
    "    # END SOLUTION\n",
    "    return nrange, times"
   ]
  },
  {
   "cell_type": "markdown",
   "id": "0ee2ace0-d28a-463b-bf77-c5ca2bef75e4",
   "metadata": {},
   "source": [
    "Plot!!! Make a comparision of the two methods. "
   ]
  },
  {
   "cell_type": "code",
   "execution_count": null,
   "id": "060ccbb1-4705-426e-a1f7-0c203711abcc",
   "metadata": {},
   "outputs": [],
   "source": []
  }
 ],
 "metadata": {
  "kernelspec": {
   "display_name": "Python 3 (ipykernel)",
   "language": "python",
   "name": "python3"
  },
  "language_info": {
   "codemirror_mode": {
    "name": "ipython",
    "version": 3
   },
   "file_extension": ".py",
   "mimetype": "text/x-python",
   "name": "python",
   "nbconvert_exporter": "python",
   "pygments_lexer": "ipython3",
   "version": "3.10.8"
  }
 },
 "nbformat": 4,
 "nbformat_minor": 5
}
